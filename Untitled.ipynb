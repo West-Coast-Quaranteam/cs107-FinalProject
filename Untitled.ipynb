{
 "cells": [
  {
   "cell_type": "code",
   "execution_count": 9,
   "metadata": {},
   "outputs": [],
   "source": [
    "import numpy as np\n",
    "import string\n",
    "from apollo_ad.apollo_ad import *\n",
    "\n",
    "def apollo_ad_UI():\n",
    "    print('Welcome to Apollod AD Library!')\n",
    "    print('Enter the number of variables:')\n",
    "    num_var = input()\n",
    "    try:\n",
    "        num_var = int(num_var)\n",
    "    except:\n",
    "        raise AttributeError(\"Please only type in integers!\")\n",
    "\n",
    "    id2var = list(string.ascii_lowercase)\n",
    "    for i in range(num_var):\n",
    "        print('Type the value of variable No. ' + str(i+1) +': (It must be a float)')\n",
    "        val = input()\n",
    "        print('Type the derivative seed of variable No. ' + str(i+1) +'. It must be a float: ')\n",
    "        der = input()\n",
    "        der_ = np.zeros((num_var,))\n",
    "        der_[i] = float(der)\n",
    "        exec(f'{id2var[i]} = Variable(float(val), der_)')\n",
    "\n",
    "    print('Enter the number of functions:')\n",
    "    num_fct = input()\n",
    "    try:\n",
    "        num_fct = int(num_fct)\n",
    "    except:\n",
    "        raise AttributeError(\"Please only type in integers!\")\n",
    "\n",
    "    fcts = []\n",
    "    \n",
    "    print(\"-- Important Note: the name of the variable in the function should follow alphabetical order. E.g. 1st variable: a; 2nd: b, ... 26th variable: z. While the UI only supports up to 26 variables, for more variables, directly use the function class. --\")\n",
    "    static_methods = ['log', 'sqrt', 'exp', 'sin', 'cos', 'tan', 'arcsin', 'arccos', 'arctan', 'sinh', 'cosh', 'tanh']\n",
    "    for i in range(num_fct):\n",
    "        print('Type function No. ' + str(i+1) +' :')\n",
    "        fct = input()\n",
    "        for i in static_methods:\n",
    "            if i in fct:\n",
    "                fct = fct[:fct.find(i)] + 'Variable.' + fct[fct.find(i):]\n",
    "        fcts.append(eval(fct))\n",
    "\n",
    "    f = Functions(fcts)\n",
    "    print(f)\n",
    "    return f"
   ]
  },
  {
   "cell_type": "code",
   "execution_count": 8,
   "metadata": {},
   "outputs": [
    {
     "name": "stdout",
     "output_type": "stream",
     "text": [
      "Welcome to Apollod AD Library!\n",
      "Enter the number of variables:\n",
      "3\n",
      "Type the value of variable No. 1: (It must be a float)\n",
      "3\n",
      "Type the derivative seed of variable No. 1. It must be a float: \n",
      "1\n",
      "Type the value of variable No. 2: (It must be a float)\n",
      "4\n",
      "Type the derivative seed of variable No. 2. It must be a float: \n",
      "1\n",
      "Type the value of variable No. 3: (It must be a float)\n",
      "5\n",
      "Type the derivative seed of variable No. 3. It must be a float: \n",
      "1\n",
      "Enter the number of functions:\n",
      "2\n",
      "-- Important Note: the name of the variable in the function should follow alphabetical order. E.g. 1st variable: a; 2nd: b, ... 26th variable: z. While the UI only supports up to 26 variables, for more variables, directly use the function class. --\n",
      "Type function No. 1 :\n",
      "cos(a) + b ** 2 + sin(c)\n",
      "Type function No. 2 :\n",
      "2 * log(b) - sqrt(a)/3\n",
      "Values: \n",
      "[14.05108323  2.19523845] \n",
      " Gradients: \n",
      "[[-0.14112001  8.          0.28366219]\n",
      " [-0.09622504  0.5         0.        ]]\n"
     ]
    },
    {
     "data": {
      "text/plain": [
       "Values: \n",
       "[14.05108323  2.19523845] \n",
       " Gradients: \n",
       "[[-0.14112001  8.          0.28366219]\n",
       " [-0.09622504  0.5         0.        ]]"
      ]
     },
     "execution_count": 8,
     "metadata": {},
     "output_type": "execute_result"
    }
   ],
   "source": [
    "apollo_ad_UI()"
   ]
  },
  {
   "cell_type": "code",
   "execution_count": 12,
   "metadata": {},
   "outputs": [],
   "source": [
    "x = Variable(3, [1, 0, 0])\n",
    "y = Variable(4, [0, 1, 0])\n",
    "z = Variable(5, [0, 0, 1])\n",
    "f1 =  Variable.cos(x) + y ** 2 + Variable.sin(z)\n",
    "f2 = 2 * Variable.log(y) - Variable.sqrt(x)/3 \n",
    "z = Functions([f1, f2])\n",
    "\n",
    "assert np.array_equal(np.around(z.var, 4), np.array([14.0511, 2.1952]))\n",
    "assert np.array_equal(np.around(z.der, 4), np.array([[-0.1411, 8.0000, 0.2837], [-0.0962, 0.5000, 0.0000]]))"
   ]
  },
  {
   "cell_type": "code",
   "execution_count": 11,
   "metadata": {},
   "outputs": [
    {
     "data": {
      "text/plain": [
       "array([14.0511,  2.1952])"
      ]
     },
     "execution_count": 11,
     "metadata": {},
     "output_type": "execute_result"
    }
   ],
   "source": [
    "np.around(z.var, 4)"
   ]
  },
  {
   "cell_type": "code",
   "execution_count": 13,
   "metadata": {},
   "outputs": [
    {
     "name": "stdout",
     "output_type": "stream",
     "text": [
      "Welcome to Apollod AD Library!\n",
      "Enter the number of variables:\n",
      "^C\n",
      "Traceback (most recent call last):\n",
      "  File \"UI.py\", line 46, in <module>\n",
      "    apollo_ad_UI()\n",
      "  File \"UI.py\", line 7, in apollo_ad_UI\n",
      "    num_var = input()\n",
      "KeyboardInterrupt\n"
     ]
    }
   ],
   "source": [
    "!python UI.py"
   ]
  },
  {
   "cell_type": "code",
   "execution_count": null,
   "metadata": {},
   "outputs": [],
   "source": []
  }
 ],
 "metadata": {
  "kernelspec": {
   "display_name": "Python [conda env:DeepPurpose]",
   "language": "python",
   "name": "conda-env-DeepPurpose-py"
  },
  "language_info": {
   "codemirror_mode": {
    "name": "ipython",
    "version": 3
   },
   "file_extension": ".py",
   "mimetype": "text/x-python",
   "name": "python",
   "nbconvert_exporter": "python",
   "pygments_lexer": "ipython3",
   "version": "3.7.7"
  }
 },
 "nbformat": 4,
 "nbformat_minor": 2
}
